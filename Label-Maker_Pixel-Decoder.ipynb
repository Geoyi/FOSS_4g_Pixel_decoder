{
 "cells": [
  {
   "cell_type": "markdown",
   "metadata": {},
   "source": [
    "# Create training dataset with Label-Maker for detecting building footprint\n",
    "\n",
    "In this usecase, we will create a training dataset for detecting building footprint of Dar es Salaam with Label Maker. We will then train a neural net for building segmentation.\n",
    "\n",
    "Before the taining dataset creation, I recommend you go throught these steps. \n",
    "\n",
    "- [setup a python virtual environment](https://gist.github.com/wronk/a902185f5f8ed018263d828e1027009b); I use python 3.6.3.\n",
    "- [install Tippecanoe](https://github.com/mapbox/tippecanoe) and [pip install label maker](https://github.com/developmentseed/label-maker);\n",
    "- `pip install jupyter`;\n",
    "- [Register and get Mapbox access token](https://www.mapbox.com/help/how-access-tokens-work/)\n",
    "- run this python notebook and follow allowing the following instruction."
   ]
  },
  {
   "cell_type": "code",
   "execution_count": null,
   "metadata": {},
   "outputs": [],
   "source": [
    "%%file config.json \n",
    "{\n",
    "  \"country\": \"united_republic_of_tanzania\",\n",
    "  \"bounding_box\": [39.22222137451172,-6.8209322101709935,39.28736686706543,-6.776955027395981],\n",
    "  \"zoom\": 17,\n",
    "  \"classes\": [\n",
    "    { \"name\": \"Roads\", \"filter\": [\"has\", \"highway\"] , \"buffer\": 2}\n",
    "  ],\n",
    "  \"imagery\": \"https://a.tiles.mapbox.com/v4/digitalglobe.2lnpeioh/{z}/{x}/{y}.jpg?access_token=TOKEN\"\n",
    "  \"ml_type\": \"segmentation\"\n",
    "}"
   ]
  },
  {
   "cell_type": "code",
   "execution_count": null,
   "metadata": {},
   "outputs": [],
   "source": [
    "!label-maker download --dest tz_roads --config config.json"
   ]
  },
  {
   "cell_type": "code",
   "execution_count": null,
   "metadata": {
    "scrolled": false
   },
   "outputs": [],
   "source": [
    "!label-maker labels --dest tz_roads --config config.json"
   ]
  },
  {
   "cell_type": "code",
   "execution_count": null,
   "metadata": {},
   "outputs": [],
   "source": [
    "!label-maker images --dest tz_roads --config config.json"
   ]
  },
  {
   "cell_type": "markdown",
   "metadata": {},
   "source": [
    "### Move `tz_roads` direcotry to the following GPU EC2 instance."
   ]
  },
  {
   "cell_type": "markdown",
   "metadata": {},
   "source": [
    "# Move to a GPU cloud computer\n",
    "\n",
    "This example was made from AWS P2.xlarge machine, it's an **Ubuntu Deep Learning AMI** for specific. \n",
    "\n",
    "I did these following steps to be able to start this notebook in the cloud computer with `Nvidia-Docker`.\n",
    "\n",
    "- 1. install [docker](https://docs.aws.amazon.com/AmazonECS/latest/developerguide/docker-basics.html) and [nvidia-docker](https://towardsdatascience.com/using-docker-to-set-up-a-deep-learning-environment-on-aws-6af37a78c551) on AWS EC2 p2.xlarge instance;\n",
    "- 2. running `git clone https://github.com/Geoyi/FOSS_4g_Pixel_decoder.git` and `cd FOSS_4g_Pixel_decoder`;\n",
    "- 3. built the nvidia-docker image to run the notebook, by running `docker build -t pixel-decoder-notebook .`, it will create a nvidia-docker called `pixel-decoder-notebook`;\n",
    "- 4. incide the `FOSS_4g_Pixel_decoder` directory, run `git clone https://github.com/Geoyi/pixel-decoder.git`, and move the notebook `Label-Maker_Pixel-Decoder.ipynb` to `pixel-decoder` directory;\n",
    "- 5. `cd pixel-decoder` and run `nvidia-docker run -v $PWD:/example -p 8888:8888 -it pixel-decoder-notebook`;\n",
    "- 6. in another terminal tag, log in and active to your notebook by runnin `ssh -i Your_AWS.pem -L 8888:localhost:8888 ubuntu@ec2-XX-XXX-XXX-XXX.compute-1.amazonaws.com`;\n",
    "- log in to your notebook in your browser by runnin `localhost:8888/?token=xxxxxx`;\n",
    "\n",
    "Now you are ready to run next steps.\n"
   ]
  },
  {
   "cell_type": "code",
   "execution_count": null,
   "metadata": {},
   "outputs": [],
   "source": [
    "!pip install -e ."
   ]
  },
  {
   "cell_type": "code",
   "execution_count": null,
   "metadata": {
    "scrolled": true
   },
   "outputs": [],
   "source": [
    "!pixel_decoder train --batch_size=16 \\\n",
    "                    --imgs_folder=tiles \\\n",
    "                    --masks_folder=new_labels \\\n",
    "                    --models_folder=tz_building_model \\\n",
    "                    --model_id=resnet_unet \\\n",
    "                    --origin_shape_no=256 \\\n",
    "                    --border_no=32"
   ]
  },
  {
   "cell_type": "code",
   "execution_count": null,
   "metadata": {},
   "outputs": [],
   "source": [
    "!pixel_decoder predict --imgs_folder=tiles\\\n",
    "                    --test_folder=tiles \\\n",
    "                    --models_folder=tz_building_model \\\n",
    "                    --pred_folder=predictions-tz_building \\\n",
    "                    --model_id=resnet_unet \\\n",
    "                    --origin_shape_no=256 \\\n",
    "                    --border_no=32"
   ]
  },
  {
   "cell_type": "code",
   "execution_count": 1,
   "metadata": {},
   "outputs": [],
   "source": [
    "import os, glob\n",
    "import numpy as np\n",
    "from os import path as op\n",
    "import matplotlib.pyplot as plt\n",
    "%matplotlib inline\n",
    "import skimage.io"
   ]
  },
  {
   "cell_type": "code",
   "execution_count": 2,
   "metadata": {},
   "outputs": [],
   "source": [
    "tiles =sorted(glob.glob(\"tiles_road/*.jpg\"))\n",
    "labels =sorted(glob.glob(\"labels_road/*.png\"))\n",
    "preds= sorted(glob.glob(\"predictios_roads/*.png\"))\n",
    "\n",
    "def grey2rgb(img):\n",
    "    \"\"\"\n",
    "    Create model prediction result to 3 channel, so we can see the result in black and white.\n",
    "    \"\"\"\n",
    "    new_img = []\n",
    "    for i in range(img.shape[0]):\n",
    "        for j in range(img.shape[1]):\n",
    "            new_img.append([img[i][j]]*3)\n",
    "    new_img = np.array(new_img).reshape(img.shape[0], img.shape[1], 3)\n",
    "    return new_img"
   ]
  },
  {
   "cell_type": "code",
   "execution_count": 3,
   "metadata": {},
   "outputs": [],
   "source": [
    "pred_list = [op.basename(f).split(\".\")[0] for f in preds]"
   ]
  },
  {
   "cell_type": "code",
   "execution_count": null,
   "metadata": {},
   "outputs": [
    {
     "name": "stderr",
     "output_type": "stream",
     "text": [
      "/opt/conda/envs/jupyter_env/lib/python3.6/site-packages/matplotlib/pyplot.py:523: RuntimeWarning: More than 20 figures have been opened. Figures created through the pyplot interface (`matplotlib.pyplot.figure`) are retained until explicitly closed and may consume too much memory. (To control this warning, see the rcParam `figure.max_open_warning`).\n",
      "  max_open_warning, RuntimeWarning)\n"
     ]
    }
   ],
   "source": [
    "for pred in pred_list:\n",
    "    img = skimage.io.imread(\"tiles_road/{}.jpg\".format(pred))\n",
    "    mask = skimage.io.imread(\"labels_road/{}.png\".format(pred))\n",
    "    pred_mask = grey2rgb(skimage.io.imread(\"predictios_roads/{}.png\".format(pred)))\n",
    "    masked = np.ma.masked_where(pred_mask >=1, pred_mask)\n",
    "\n",
    "    fig, ax =  plt.subplots(1, 3, figsize=(30, 10))\n",
    "    ax[-3].imshow(img, 'gray', interpolation='none')\n",
    "    ax[-3].set_title('Origin RGB image Tile')\n",
    "\n",
    "    ax[-2].imshow(img, 'gray', interpolation='none')\n",
    "    ax[-2].imshow(mask, 'jet', interpolation='none', alpha=0.6)\n",
    "    ax[-2].set_title('Ground-truth over image')\n",
    "\n",
    "    ax[-1].imshow(img, 'gray', interpolation='none')\n",
    "    ax[-1].imshow(masked, 'jet', interpolation='none', alpha=0.6)\n",
    "    ax[-1].set_title('Predition over images')\n",
    "\n",
    "    fig.savefig(\"tz_roads_pred_{}.png\".format(pred))"
   ]
  },
  {
   "cell_type": "code",
   "execution_count": null,
   "metadata": {},
   "outputs": [],
   "source": []
  }
 ],
 "metadata": {
  "kernelspec": {
   "display_name": "Python 3",
   "language": "python",
   "name": "python3"
  },
  "language_info": {
   "codemirror_mode": {
    "name": "ipython",
    "version": 3
   },
   "file_extension": ".py",
   "mimetype": "text/x-python",
   "name": "python",
   "nbconvert_exporter": "python",
   "pygments_lexer": "ipython3",
   "version": "3.6.5"
  }
 },
 "nbformat": 4,
 "nbformat_minor": 2
}
