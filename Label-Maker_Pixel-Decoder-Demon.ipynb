{
 "cells": [
  {
   "cell_type": "markdown",
   "metadata": {},
   "source": [
    "# Create training dataset with Label-Maker for detecting building footprint\n",
    "\n",
    "In this usecase, we will create a training dataset for detecting building footprint of Dar es Salaam with Label Maker. We will then train a neural net for building segmentation.\n",
    "\n",
    "Before the taining dataset creation, I recommend you go throught these steps. \n",
    "\n",
    "- [setup a python virtual environment](https://gist.github.com/wronk/a902185f5f8ed018263d828e1027009b); I use python 3.6.3.\n",
    "- [install Tippecanoe](https://github.com/mapbox/tippecanoe) and [pip install label maker](https://github.com/developmentseed/label-maker);\n",
    "- `pip install jupyter`;\n",
    "- [Register and get Mapbox access token](https://www.mapbox.com/help/how-access-tokens-work/)\n",
    "- run this python notebook and follow allowing the following instruction."
   ]
  },
  {
   "cell_type": "code",
   "execution_count": null,
   "metadata": {},
   "outputs": [],
   "source": [
    "%%file config.json \n",
    "{\n",
    "  \"country\": \"united_republic_of_tanzania\",\n",
    "  \"bounding_box\": [39.22222137451172,-6.8209322101709935,39.28736686706543,-6.776955027395981],\n",
    "  \"zoom\": 17,\n",
    "  \"classes\": [\n",
    "    { \"name\": \"Buildings\", \"filter\": [\"has\", \"building\"] , \"buffer\": 2}\n",
    "  ],\n",
    "  \"imagery\": \"https://a.tiles.mapbox.com/v4/digitalglobe.2lnpeioh/{z}/{x}/{y}.jpg?access_token=TOKEN\"\n",
    "  \"ml_type\": \"segmentation\"\n",
    "}"
   ]
  },
  {
   "cell_type": "code",
   "execution_count": null,
   "metadata": {},
   "outputs": [],
   "source": [
    "!label-maker download --dest tz_buildings --config config.json"
   ]
  },
  {
   "cell_type": "code",
   "execution_count": null,
   "metadata": {
    "scrolled": false
   },
   "outputs": [],
   "source": [
    "!label-maker labels --dest tz_buildings --config config.json"
   ]
  },
  {
   "cell_type": "code",
   "execution_count": 1,
   "metadata": {},
   "outputs": [
    {
     "name": "stdout",
     "output_type": "stream",
     "text": [
      "Downloading 408 tiles to tz_buildings/tiles\r\n"
     ]
    }
   ],
   "source": [
    "!label-maker images --dest tz_buildings --config config.json"
   ]
  },
  {
   "cell_type": "code",
   "execution_count": null,
   "metadata": {},
   "outputs": [],
   "source": []
  }
 ],
 "metadata": {
  "kernelspec": {
   "display_name": "Python 3",
   "language": "python",
   "name": "python3"
  },
  "language_info": {
   "codemirror_mode": {
    "name": "ipython",
    "version": 3
   },
   "file_extension": ".py",
   "mimetype": "text/x-python",
   "name": "python",
   "nbconvert_exporter": "python",
   "pygments_lexer": "ipython3",
   "version": "3.6.3"
  }
 },
 "nbformat": 4,
 "nbformat_minor": 2
}
